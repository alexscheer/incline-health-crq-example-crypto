{
 "cells": [
  {
   "cell_type": "markdown",
   "id": "2e4d672a",
   "metadata": {},
   "source": [
    "## Introduction and Setup\n",
    "\n",
    "This notebook implements a FAIR-based cyber risk quantification method:\n",
    "\n",
    "*Risk = Loss Event Frequency × Loss Magnitude*\n",
    "\n",
    "**Read more here:**  \n",
    "[FAIR Cyber Risk Quantification – Substack article](https://scheermemos.substack.com/p/3d29a149-a511-4fde-8e92-ea47b80962a3?postPreview=paid&updated=2025-09-01T21%3A35%3A32.015Z&audience=everyone&free_preview=false&freemail=true)\n"
   ]
  },
  {
   "cell_type": "markdown",
   "id": "eb089e34",
   "metadata": {},
   "source": [
    "## Instructive Model\n",
    "The directional model I present is not a perfect prediction. Rather, it’s a structured lens through which one can frame the probability of a breach at a top-tier institutional custodian and the likely magnitude of loss. The aim is to help stimulate thinking among interested readers around reasoning quantitatively about a complex landscape without over-simplifying it or simply using “High, Medium, Low” or “Red, Green, Yellow” risk assessments. \n",
    "\n",
    "_**Disclaimers**_\n",
    "Modeling crypto risk is more complex than I expected. While a broad-brush approach could look at the over 800 incidents and more than $10 billion in losses over the last five years (see Chainalysis data in footnotes), that would be overly simplistic. It would fail to account for the nuances of institutional-grade security. Many of the major breaches have occurred in the DeFi space, which I don’t believe is representative of a corporation's risk profile when they choose a professional custodian.\n",
    "\n",
    "For the purposes of this model, the Loss Magnitude calculation is a first-order estimate. It is intentionally focused on primary losses (direct asset exposure) and does not attempt to capture secondary effects such as regulatory fines, reputational damage, or competitive impact. This simplifies the analysis while making the assumptions explicit, but it should not be interpreted as a full FAIR/Open FAIR treatment of loss magnitude.\n",
    "\n",
    "## Possible Future Model Enhancements\n",
    "Near-term Improvements:\n",
    "1. Loss Magnitude Calibration: Replace the 70% point estimate with a PERT distribution based on:\n",
    "        -Historical recovery rates from crypto incidents\n",
    "        -Control effectiveness assessments\n",
    "        -Time-to-detection analysis for different breach scenarios\n",
    "\n",
    "2. Threat Event Decomposition: Break down LEF into Threat Event Frequency × Vulnerability to better model how controls affect risk\n",
    "\n",
    "3. More Advanced Refinements:\n",
    "- Correlation Modeling: Account for systemic risks across custodians (shared infrastructure, common vulnerabilities)\n",
    "- Bayesian Updating: Incorporate near-miss data and threat intelligence to refine probability estimates\n",
    "- Dynamic LEF: Model how threat frequency evolves with market conditions and threat actor sophistication"
   ]
  },
  {
   "cell_type": "markdown",
   "id": "4fc402fe",
   "metadata": {},
   "source": [
    "### Set Variables"
   ]
  },
  {
   "cell_type": "code",
   "execution_count": 62,
   "id": "e00eec06",
   "metadata": {},
   "outputs": [],
   "source": [
    "# MODEL INPUTS - Set variables here to run the model\n",
    "COMPANIES_IN_SCOPE = 7\n",
    "YEARS_OBSERVED = 5\n",
    "LOSSES_OBSERVED = 0          # losses among the 7 custodians during 2020–1H25\n",
    "\n",
    "BTC_PRICE = 108_136.09       # USD per BTC; Computed value is based on price per BTC as of 10:06 PM ET on 08/31/2025\n",
    "LM_PCT = 0.70                # % of exposed value lost if a breach succeeds (e.g., 30%)\n",
    "USE_UPPER_BOUND = False      # True = conservative LEF (rule-of-three), False = point estimate"
   ]
  },
  {
   "cell_type": "markdown",
   "id": "cc22ea0b",
   "metadata": {},
   "source": [
    "### Set Example Scenarios"
   ]
  },
  {
   "cell_type": "code",
   "execution_count": 63,
   "id": "cb60f63c",
   "metadata": {},
   "outputs": [],
   "source": [
    "# Two example companies (feel free to edit/add):\n",
    "scenarios = [\n",
    "    {\"name\": \"Incline — concentrated\", \"btc_holdings\": 819, \"platforms\": 1},  # all on one platform; based on AirNet Technology Inc (ANTE) holdings\n",
    "    {\"name\": \"Incline — diversified\",  \"btc_holdings\": 819,  \"platforms\": 4},  # split across 4 platforms\n",
    "]"
   ]
  },
  {
   "cell_type": "markdown",
   "id": "65ed251b",
   "metadata": {},
   "source": [
    "### Loss Event Frequency (LEF) Estimation\n",
    "\n",
    "We treat each **company-year** as one unit of exposure (one company at risk for one year).\n",
    "\n",
    "- **Exposure basis:**  \n",
    "  `company_years = companies × years`\n",
    "\n",
    "- **LEF (base-case, small-sample friendly — Laplace / rule of succession):**  \n",
    "  `LEF_laplace = (losses + 1) / (company_years + 2)`\n",
    "\n",
    "- **Alternative point estimate (slightly less conservative: Jeffreys Prior ):**  \n",
    "  `LEF_jeffreys = (losses + 0.5) / (company_years + 1)`\n",
    "\n",
    "- **Conservative 95% upper bound (for zero losses, “rule of three”):**  \n",
    "  `LEF_upper95 ≈ 3 / company_years`  *(use as a stress-test ceiling, not as the base number)*\n",
    "\n",
    "**Why this:** These small-sample estimators avoid collapsing risk to 0 when you observed 0 losses, while staying simple. Use **Laplace** for your everyday/base estimate and show the **rule-of-three** as a conservative ceiling to communicate uncertainty.\n"
   ]
  },
  {
   "cell_type": "code",
   "execution_count": 64,
   "id": "40360956",
   "metadata": {},
   "outputs": [
    {
     "name": "stdout",
     "output_type": "stream",
     "text": [
      "LEF Estimation (Wallet/Key-Compromise @ Top-Tier Custodians)\n",
      "========================================================================\n",
      "Exposure basis: 7 companies × 5 years = 35 company-years\n",
      "Observed loss events: 0\n",
      "LEF (Laplace, point):   2.70%   <-- used\n",
      "LEF (Jeffreys, point):  1.39%\n",
      "LEF (rule-of-three 95% upper): 8.57%\n"
     ]
    }
   ],
   "source": [
    "# === LEF via Laplace (rule of succession) ===\n",
    "COMPANIES_IN_SCOPE = 7\n",
    "YEARS_OBSERVED = 5\n",
    "LOSSES_OBSERVED = 0  # observed loss events in the 7-custodian cohort (2022–1H25)\n",
    "\n",
    "company_years = COMPANIES_IN_SCOPE * YEARS_OBSERVED  # exposure denominator\n",
    "\n",
    "# Point estimates\n",
    "lef_laplace  = (LOSSES_OBSERVED + 1) / (company_years + 2)\n",
    "lef_jeffreys = (LOSSES_OBSERVED + 0.5) / (company_years + 1)\n",
    "\n",
    "# 95% upper bound for k=0 (not a point estimate)\n",
    "lef_upper95 = (3 / company_years) if (LOSSES_OBSERVED == 0 and company_years > 0) else None\n",
    "\n",
    "# Use Laplace as the model LEF\n",
    "LEF = lef_laplace\n",
    "\n",
    "print(\"LEF Estimation (Wallet/Key-Compromise @ Top-Tier Custodians)\")\n",
    "print(\"=\" * 72)\n",
    "print(f\"Exposure basis: {COMPANIES_IN_SCOPE} companies × {YEARS_OBSERVED} years = {company_years} company-years\")\n",
    "print(f\"Observed loss events: {LOSSES_OBSERVED}\")\n",
    "print(f\"LEF (Laplace, point):   {lef_laplace:.2%}   <-- used\")\n",
    "print(f\"LEF (Jeffreys, point):  {lef_jeffreys:.2%}\")\n",
    "if lef_upper95 is not None:\n",
    "    print(f\"LEF (rule-of-three 95% upper): {lef_upper95:.2%}\")\n",
    "\n"
   ]
  },
  {
   "cell_type": "markdown",
   "id": "cac2d97f",
   "metadata": {},
   "source": [
    "### Scenario Build/Setup\n",
    "Each scenario defines:\n",
    "    - btc_holdings: total BTC held by the company\n",
    "    - platforms: how many platforms/custodians hold those BTC (assume even split)\n",
    "    - Concentration factor = 1 / platforms (blast radius shrinks if you spread holdings)"
   ]
  },
  {
   "cell_type": "code",
   "execution_count": 67,
   "id": "1aa705de",
   "metadata": {},
   "outputs": [
    {
     "name": "stdout",
     "output_type": "stream",
     "text": [
      "\n",
      "Risk Summary per Company (Base LEF)\n",
      "======================================================================\n",
      "Annual breach probability (LEF): 2.70%  |  Note: EAL = LEF × LM (long-run average)\n",
      "\n",
      "Incline — concentrated\n",
      "----------------------\n",
      "Holdings: 819 BTC  |  Platforms: 1  |  Concentration: 1.00\n",
      "Probability\n",
      "  1-year breach probability (LEF):            2.70%\n",
      "  5-year chance of ≥1 breach:      12.80%\n",
      "Impact if it happens\n",
      "  Loss if a breach occurs (LM, one event):    $61.99M\n",
      "Risk-weighted average\n",
      "  Mean loss per year (EAL = LEF × LM):        $1.68M\n",
      "  Note: EAL is a long-run average; most years $0, rare year near LM.\n",
      "\n",
      "Incline — diversified\n",
      "---------------------\n",
      "Holdings: 819 BTC  |  Platforms: 4  |  Concentration: 0.25\n",
      "Probability\n",
      "  1-year breach probability (LEF):            2.70%\n",
      "  5-year chance of ≥1 breach:      12.80%\n",
      "Impact if it happens\n",
      "  Loss if a breach occurs (LM, one event):    $15.50M\n",
      "Risk-weighted average\n",
      "  Mean loss per year (EAL = LEF × LM):        $419K\n",
      "  Note: EAL is a long-run average; most years $0, rare year near LM.\n",
      "\n"
     ]
    }
   ],
   "source": [
    "# === Auto-scaling money formatter (K/M/B/T) ===\n",
    "def fmt_money(x, unit=\"auto\", decimals=None):\n",
    "    \"\"\"\n",
    "    Format USD with thousands separators and a scale suffix.\n",
    "    unit: \"auto\", \"\", \"K\", \"M\", \"B\", or \"T\"\n",
    "    decimals: None -> 0 for ''/K, 2 for M/B/T; or pass an int to override.\n",
    "    \"\"\"\n",
    "    scales = [(\"\", 1), (\"K\", 1_000), (\"M\", 1_000_000), (\"B\", 1_000_000_000), (\"T\", 1_000_000_000_000)]\n",
    "\n",
    "    if unit == \"auto\":\n",
    "        # choose the largest scale whose divisor is <= |x|\n",
    "        absx = abs(x)\n",
    "        suf, div = \"\", 1\n",
    "        for s, d in scales:\n",
    "            if absx >= d:\n",
    "                suf, div = s, d\n",
    "        # default decimals: 0 for ''/K, 2 for M/B/T\n",
    "        if decimals is None:\n",
    "            decimals = 0 if suf in (\"\", \"K\") else 2\n",
    "        return f\"${x/div:,.{decimals}f}{suf}\"\n",
    "    else:\n",
    "        # fixed unit\n",
    "        lookup = dict(scales)\n",
    "        div = lookup[unit]\n",
    "        if decimals is None:\n",
    "            decimals = 0 if unit in (\"\", \"K\") else 2\n",
    "        return f\"${x/div:,.{decimals}f}{unit}\"\n",
    "\n",
    "# assumes LEF, LM_PCT, BTC_PRICE, and 'scenarios' are defined earlier\n",
    "def pct(x): return f\"{100*x:.2f}%\"\n",
    "\n",
    "SHOW_MULTIYEAR = True\n",
    "HORIZON_YEARS = 5\n",
    "\n",
    "print(\"\\nRisk Summary per Company (Base LEF)\")\n",
    "print(\"=\" * 70)\n",
    "print(f\"Annual breach probability (LEF): {LEF:.2%}  |  Note: EAL = LEF × LM (long-run average)\\n\")\n",
    "\n",
    "for s in scenarios:\n",
    "    name = s[\"name\"]\n",
    "    btc = float(s[\"btc_holdings\"])\n",
    "    platforms = max(1, int(s.get(\"platforms\", 1)))\n",
    "    conc = 1 / platforms\n",
    "\n",
    "    company_value = btc * BTC_PRICE\n",
    "    LM = LM_PCT * company_value * conc              # loss if a breach occurs (one event)\n",
    "    EAL = LEF * LM                                  # mean loss per year (long-run average)\n",
    "    p1y = LEF\n",
    "    pHy = 1 - (1 - LEF) ** HORIZON_YEARS            # multi-year chance of ≥1 breach\n",
    "\n",
    "    print(name)\n",
    "    print(\"-\" * len(name))\n",
    "    print(f\"Holdings: {btc:,.0f} BTC  |  Platforms: {platforms}  |  Concentration: {conc:.2f}\")\n",
    "    print(\"Probability\")\n",
    "    print(f\"  1-year breach probability (LEF):            {pct(p1y)}\")\n",
    "    if SHOW_MULTIYEAR:\n",
    "        print(f\"  {HORIZON_YEARS}-year chance of ≥1 breach:      {pct(pHy)}\")\n",
    "    print(\"Impact if it happens\")\n",
    "    print(f\"  Loss if a breach occurs (LM, one event):    {fmt_money(LM)}\")\n",
    "    print(\"Risk-weighted average\")\n",
    "    print(f\"  Mean loss per year (EAL = LEF × LM):        {fmt_money(EAL)}\")\n",
    "    print(\"  Note: EAL is a long-run average; most years $0, rare year near LM.\\n\")\n"
   ]
  }
 ],
 "metadata": {
  "kernelspec": {
   "display_name": "crq_models",
   "language": "python",
   "name": "python3"
  },
  "language_info": {
   "codemirror_mode": {
    "name": "ipython",
    "version": 3
   },
   "file_extension": ".py",
   "mimetype": "text/x-python",
   "name": "python",
   "nbconvert_exporter": "python",
   "pygments_lexer": "ipython3",
   "version": "3.13.5"
  }
 },
 "nbformat": 4,
 "nbformat_minor": 5
}
